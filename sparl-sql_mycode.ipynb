{
 "cells": [
  {
   "cell_type": "markdown",
   "metadata": {},
   "source": [
    "#### Find the number of friends in each age group in the fake friends dataset"
   ]
  },
  {
   "cell_type": "code",
   "execution_count": 3,
   "metadata": {},
   "outputs": [],
   "source": [
    "import findspark\n",
    "findspark.init()\n",
    "from pyspark import SparkConf, SparkContext\n",
    "from pyspark.sql import SparkSession"
   ]
  },
  {
   "cell_type": "code",
   "execution_count": 4,
   "metadata": {},
   "outputs": [],
   "source": [
    "spark = SparkSession.builder.appName(\"SparkSQL\").getOrCreate()"
   ]
  },
  {
   "cell_type": "code",
   "execution_count": 6,
   "metadata": {},
   "outputs": [],
   "source": [
    "schemaPeople = spark.read.csv(\"fakefriends.csv\")"
   ]
  },
  {
   "cell_type": "code",
   "execution_count": 9,
   "metadata": {},
   "outputs": [
    {
     "name": "stdout",
     "output_type": "stream",
     "text": [
      "+---+--------+---+---+\n",
      "|_c0|     _c1|_c2|_c3|\n",
      "+---+--------+---+---+\n",
      "|  0|    Will| 33|385|\n",
      "|  1|Jean-Luc| 26|  2|\n",
      "|  2|    Hugh| 55|221|\n",
      "|  3|  Deanna| 40|465|\n",
      "|  4|   Quark| 68| 21|\n",
      "|  5|  Weyoun| 59|318|\n",
      "|  6|  Gowron| 37|220|\n",
      "|  7|    Will| 54|307|\n",
      "|  8|  Jadzia| 38|380|\n",
      "|  9|    Hugh| 27|181|\n",
      "| 10|     Odo| 53|191|\n",
      "| 11|     Ben| 57|372|\n",
      "| 12|   Keiko| 54|253|\n",
      "| 13|Jean-Luc| 56|444|\n",
      "| 14|    Hugh| 43| 49|\n",
      "| 15|     Rom| 36| 49|\n",
      "| 16|  Weyoun| 22|323|\n",
      "| 17|     Odo| 35| 13|\n",
      "| 18|Jean-Luc| 45|455|\n",
      "| 19|  Geordi| 60|246|\n",
      "+---+--------+---+---+\n",
      "only showing top 20 rows\n",
      "\n"
     ]
    }
   ],
   "source": [
    "schemaPeople.show()"
   ]
  },
  {
   "cell_type": "code",
   "execution_count": 12,
   "metadata": {},
   "outputs": [
    {
     "data": {
      "text/plain": [
       "[Row(_c0='0', _c1='Will', _c2='33', _c3='385'),\n",
       " Row(_c0='1', _c1='Jean-Luc', _c2='26', _c3='2'),\n",
       " Row(_c0='2', _c1='Hugh', _c2='55', _c3='221'),\n",
       " Row(_c0='3', _c1='Deanna', _c2='40', _c3='465'),\n",
       " Row(_c0='4', _c1='Quark', _c2='68', _c3='21')]"
      ]
     },
     "execution_count": 12,
     "metadata": {},
     "output_type": "execute_result"
    }
   ],
   "source": [
    "schemaPeople.head(5)"
   ]
  },
  {
   "cell_type": "code",
   "execution_count": 14,
   "metadata": {},
   "outputs": [
    {
     "name": "stdout",
     "output_type": "stream",
     "text": [
      "root\n",
      " |-- _c0: string (nullable = true)\n",
      " |-- _c1: string (nullable = true)\n",
      " |-- _c2: string (nullable = true)\n",
      " |-- _c3: string (nullable = true)\n",
      "\n"
     ]
    }
   ],
   "source": [
    "schemaPeople.printSchema() # equivalent to df.info()"
   ]
  },
  {
   "cell_type": "code",
   "execution_count": 16,
   "metadata": {},
   "outputs": [
    {
     "name": "stdout",
     "output_type": "stream",
     "text": [
      "Row(_c0='21', _c1='Miles', _c2='19', _c3='268')\n",
      "Row(_c0='52', _c1='Beverly', _c2='19', _c3='269')\n",
      "Row(_c0='54', _c1='Brunt', _c2='19', _c3='5')\n",
      "Row(_c0='106', _c1='Beverly', _c2='18', _c3='499')\n",
      "Row(_c0='115', _c1='Dukat', _c2='18', _c3='397')\n",
      "Row(_c0='133', _c1='Quark', _c2='19', _c3='265')\n",
      "Row(_c0='136', _c1='Will', _c2='19', _c3='335')\n",
      "Row(_c0='225', _c1='Elim', _c2='19', _c3='106')\n",
      "Row(_c0='304', _c1='Will', _c2='19', _c3='404')\n",
      "Row(_c0='341', _c1='Data', _c2='18', _c3='326')\n",
      "Row(_c0='366', _c1='Keiko', _c2='19', _c3='119')\n",
      "Row(_c0='373', _c1='Quark', _c2='19', _c3='272')\n",
      "Row(_c0='377', _c1='Beverly', _c2='18', _c3='418')\n",
      "Row(_c0='404', _c1='Kasidy', _c2='18', _c3='24')\n",
      "Row(_c0='409', _c1='Nog', _c2='19', _c3='267')\n",
      "Row(_c0='439', _c1='Data', _c2='18', _c3='417')\n",
      "Row(_c0='444', _c1='Keiko', _c2='18', _c3='472')\n",
      "Row(_c0='492', _c1='Dukat', _c2='19', _c3='36')\n",
      "Row(_c0='494', _c1='Kasidy', _c2='18', _c3='194')\n"
     ]
    }
   ],
   "source": [
    "schemaPeople.createOrReplaceTempView(\"people\")\n",
    "teenagers = spark.sql(\"SELECT * FROM people WHERE _c2 >= 13 AND _c2 <= 19\") #_c2 here is the age column in df\n",
    "# The results of SQL queries are RDDs and support all the normal RDD operations.\n",
    "for teen in teenagers.collect():\n",
    "  print(teen)"
   ]
  },
  {
   "cell_type": "code",
   "execution_count": 19,
   "metadata": {},
   "outputs": [
    {
     "name": "stdout",
     "output_type": "stream",
     "text": [
      "+---+-----+\n",
      "|_c2|count|\n",
      "+---+-----+\n",
      "| 18|    8|\n",
      "| 19|   11|\n",
      "| 20|    5|\n",
      "| 21|    8|\n",
      "| 22|    7|\n",
      "| 23|   10|\n",
      "| 24|    5|\n",
      "| 25|   11|\n",
      "| 26|   17|\n",
      "| 27|    8|\n",
      "| 28|   10|\n",
      "| 29|   12|\n",
      "| 30|   11|\n",
      "| 31|    8|\n",
      "| 32|   11|\n",
      "| 33|   12|\n",
      "| 34|    6|\n",
      "| 35|    8|\n",
      "| 36|   10|\n",
      "| 37|    9|\n",
      "+---+-----+\n",
      "only showing top 20 rows\n",
      "\n"
     ]
    }
   ],
   "source": [
    "schemaPeople.groupBy(\"_c2\").count().orderBy(\"_c2\").show()"
   ]
  },
  {
   "cell_type": "code",
   "execution_count": 20,
   "metadata": {},
   "outputs": [],
   "source": [
    "spark.stop()"
   ]
  }
 ],
 "metadata": {
  "kernelspec": {
   "display_name": "base",
   "language": "python",
   "name": "python3"
  },
  "language_info": {
   "codemirror_mode": {
    "name": "ipython",
    "version": 3
   },
   "file_extension": ".py",
   "mimetype": "text/x-python",
   "name": "python",
   "nbconvert_exporter": "python",
   "pygments_lexer": "ipython3",
   "version": "3.10.9"
  }
 },
 "nbformat": 4,
 "nbformat_minor": 2
}
