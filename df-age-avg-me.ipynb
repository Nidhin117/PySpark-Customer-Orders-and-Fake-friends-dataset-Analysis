{
 "cells": [
  {
   "cell_type": "markdown",
   "metadata": {},
   "source": [
    "#### Find the average age of each age group in the fakefriends dataset"
   ]
  },
  {
   "cell_type": "code",
   "execution_count": 1,
   "metadata": {},
   "outputs": [],
   "source": [
    "import findspark\n",
    "findspark.init()\n",
    "from pyspark import SparkConf, SparkContext\n",
    "from pyspark.sql import SparkSession"
   ]
  },
  {
   "cell_type": "code",
   "execution_count": 2,
   "metadata": {},
   "outputs": [],
   "source": [
    "spark = SparkSession.builder.appName(\"SparkSQL\").getOrCreate()"
   ]
  },
  {
   "cell_type": "code",
   "execution_count": 3,
   "metadata": {},
   "outputs": [],
   "source": [
    "people = spark.read.option(\"header\", \"true\").option(\"inferSchema\", \"true\")\\\n",
    "    .csv(\"fakefriends-header.csv\")"
   ]
  },
  {
   "cell_type": "code",
   "execution_count": 5,
   "metadata": {},
   "outputs": [
    {
     "name": "stdout",
     "output_type": "stream",
     "text": [
      "root\n",
      " |-- userID: integer (nullable = true)\n",
      " |-- name: string (nullable = true)\n",
      " |-- age: integer (nullable = true)\n",
      " |-- friends: integer (nullable = true)\n",
      "\n"
     ]
    }
   ],
   "source": [
    "people.printSchema()"
   ]
  },
  {
   "cell_type": "code",
   "execution_count": 10,
   "metadata": {},
   "outputs": [
    {
     "name": "stdout",
     "output_type": "stream",
     "text": [
      "+---+-------+\n",
      "|age|friends|\n",
      "+---+-------+\n",
      "| 33|    385|\n",
      "| 26|      2|\n",
      "| 55|    221|\n",
      "| 40|    465|\n",
      "| 68|     21|\n",
      "| 59|    318|\n",
      "| 37|    220|\n",
      "| 54|    307|\n",
      "| 38|    380|\n",
      "| 27|    181|\n",
      "| 53|    191|\n",
      "| 57|    372|\n",
      "| 54|    253|\n",
      "| 56|    444|\n",
      "| 43|     49|\n",
      "| 36|     49|\n",
      "| 22|    323|\n",
      "| 35|     13|\n",
      "| 45|    455|\n",
      "| 60|    246|\n",
      "+---+-------+\n",
      "only showing top 20 rows\n",
      "\n"
     ]
    }
   ],
   "source": [
    "people.select(\"age\",\"friends\").show()"
   ]
  },
  {
   "cell_type": "markdown",
   "metadata": {},
   "source": [
    "#### get avg number of friends for each age directly on the dataframe"
   ]
  },
  {
   "cell_type": "code",
   "execution_count": 12,
   "metadata": {},
   "outputs": [
    {
     "name": "stdout",
     "output_type": "stream",
     "text": [
      "+---+------------------+\n",
      "|age|      avg(friends)|\n",
      "+---+------------------+\n",
      "| 31|            267.25|\n",
      "| 65|             298.2|\n",
      "| 53|222.85714285714286|\n",
      "| 34|             245.5|\n",
      "| 28|             209.1|\n",
      "| 26|242.05882352941177|\n",
      "| 27|           228.125|\n",
      "| 44| 282.1666666666667|\n",
      "| 22|206.42857142857142|\n",
      "| 47|233.22222222222223|\n",
      "| 52| 340.6363636363636|\n",
      "| 40| 250.8235294117647|\n",
      "| 20|             165.0|\n",
      "| 57| 258.8333333333333|\n",
      "| 54| 278.0769230769231|\n",
      "| 48|             281.4|\n",
      "| 19|213.27272727272728|\n",
      "| 64| 281.3333333333333|\n",
      "| 41|268.55555555555554|\n",
      "| 43|230.57142857142858|\n",
      "+---+------------------+\n",
      "only showing top 20 rows\n",
      "\n"
     ]
    }
   ],
   "source": [
    "people.groupBy(\"age\").avg(\"friends\").show()"
   ]
  },
  {
   "cell_type": "markdown",
   "metadata": {},
   "source": [
    "#### do the same thing using a temporary view and SQL query"
   ]
  },
  {
   "cell_type": "code",
   "execution_count": 15,
   "metadata": {},
   "outputs": [],
   "source": [
    "people.createOrReplaceTempView(\"peopletab\")\n",
    "avgfrnds = spark.sql(\"SELECT age,mean(friends) FROM peopletab group by age\")"
   ]
  },
  {
   "cell_type": "code",
   "execution_count": 18,
   "metadata": {},
   "outputs": [
    {
     "name": "stdout",
     "output_type": "stream",
     "text": [
      "Row(age=31, mean(friends)=267.25)\n",
      "Row(age=65, mean(friends)=298.2)\n",
      "Row(age=53, mean(friends)=222.85714285714286)\n",
      "Row(age=34, mean(friends)=245.5)\n",
      "Row(age=28, mean(friends)=209.1)\n",
      "Row(age=26, mean(friends)=242.05882352941177)\n",
      "Row(age=27, mean(friends)=228.125)\n",
      "Row(age=44, mean(friends)=282.1666666666667)\n",
      "Row(age=22, mean(friends)=206.42857142857142)\n",
      "Row(age=47, mean(friends)=233.22222222222223)\n",
      "Row(age=52, mean(friends)=340.6363636363636)\n",
      "Row(age=40, mean(friends)=250.8235294117647)\n",
      "Row(age=20, mean(friends)=165.0)\n",
      "Row(age=57, mean(friends)=258.8333333333333)\n",
      "Row(age=54, mean(friends)=278.0769230769231)\n",
      "Row(age=48, mean(friends)=281.4)\n",
      "Row(age=19, mean(friends)=213.27272727272728)\n",
      "Row(age=64, mean(friends)=281.3333333333333)\n",
      "Row(age=41, mean(friends)=268.55555555555554)\n",
      "Row(age=43, mean(friends)=230.57142857142858)\n",
      "Row(age=37, mean(friends)=249.33333333333334)\n",
      "Row(age=61, mean(friends)=256.22222222222223)\n",
      "Row(age=35, mean(friends)=211.625)\n",
      "Row(age=55, mean(friends)=295.53846153846155)\n",
      "Row(age=59, mean(friends)=220.0)\n",
      "Row(age=39, mean(friends)=169.28571428571428)\n",
      "Row(age=23, mean(friends)=246.3)\n",
      "Row(age=49, mean(friends)=184.66666666666666)\n",
      "Row(age=51, mean(friends)=302.14285714285717)\n",
      "Row(age=69, mean(friends)=235.2)\n",
      "Row(age=63, mean(friends)=384.0)\n",
      "Row(age=50, mean(friends)=254.6)\n",
      "Row(age=45, mean(friends)=309.53846153846155)\n",
      "Row(age=38, mean(friends)=193.53333333333333)\n",
      "Row(age=25, mean(friends)=197.45454545454547)\n",
      "Row(age=24, mean(friends)=233.8)\n",
      "Row(age=62, mean(friends)=220.76923076923077)\n",
      "Row(age=29, mean(friends)=215.91666666666666)\n",
      "Row(age=21, mean(friends)=350.875)\n",
      "Row(age=60, mean(friends)=202.71428571428572)\n",
      "Row(age=32, mean(friends)=207.9090909090909)\n",
      "Row(age=56, mean(friends)=306.6666666666667)\n",
      "Row(age=58, mean(friends)=116.54545454545455)\n",
      "Row(age=33, mean(friends)=325.3333333333333)\n",
      "Row(age=68, mean(friends)=269.6)\n",
      "Row(age=42, mean(friends)=303.5)\n",
      "Row(age=30, mean(friends)=235.8181818181818)\n",
      "Row(age=66, mean(friends)=276.44444444444446)\n",
      "Row(age=67, mean(friends)=214.625)\n",
      "Row(age=46, mean(friends)=223.69230769230768)\n",
      "Row(age=18, mean(friends)=343.375)\n",
      "Row(age=36, mean(friends)=246.6)\n"
     ]
    }
   ],
   "source": [
    "#avgfrnds.take(5)\n",
    "for age in avgfrnds.collect():\n",
    "  print(age)"
   ]
  },
  {
   "cell_type": "markdown",
   "metadata": {},
   "source": [
    "#### sorting ther results by age"
   ]
  },
  {
   "cell_type": "code",
   "execution_count": 20,
   "metadata": {},
   "outputs": [
    {
     "name": "stdout",
     "output_type": "stream",
     "text": [
      "+---+------------------+\n",
      "|age|      avg(friends)|\n",
      "+---+------------------+\n",
      "| 18|           343.375|\n",
      "| 19|213.27272727272728|\n",
      "| 20|             165.0|\n",
      "| 21|           350.875|\n",
      "| 22|206.42857142857142|\n",
      "| 23|             246.3|\n",
      "| 24|             233.8|\n",
      "| 25|197.45454545454547|\n",
      "| 26|242.05882352941177|\n",
      "| 27|           228.125|\n",
      "| 28|             209.1|\n",
      "| 29|215.91666666666666|\n",
      "| 30| 235.8181818181818|\n",
      "| 31|            267.25|\n",
      "| 32| 207.9090909090909|\n",
      "| 33| 325.3333333333333|\n",
      "| 34|             245.5|\n",
      "| 35|           211.625|\n",
      "| 36|             246.6|\n",
      "| 37|249.33333333333334|\n",
      "+---+------------------+\n",
      "only showing top 20 rows\n",
      "\n"
     ]
    }
   ],
   "source": [
    "people.groupBy(\"age\").avg(\"friends\").sort(\"age\").show()"
   ]
  },
  {
   "cell_type": "markdown",
   "metadata": {},
   "source": [
    "format by removing too many floating point values. here we use agg function to first aggregate results of group by and then apply multiple other functions on the resulting aggregation"
   ]
  },
  {
   "cell_type": "code",
   "execution_count": 21,
   "metadata": {},
   "outputs": [
    {
     "name": "stdout",
     "output_type": "stream",
     "text": [
      "+---+----------------------+\n",
      "|age|round(avg(friends), 2)|\n",
      "+---+----------------------+\n",
      "| 18|                343.38|\n",
      "| 19|                213.27|\n",
      "| 20|                 165.0|\n",
      "| 21|                350.88|\n",
      "| 22|                206.43|\n",
      "| 23|                 246.3|\n",
      "| 24|                 233.8|\n",
      "| 25|                197.45|\n",
      "| 26|                242.06|\n",
      "| 27|                228.13|\n",
      "| 28|                 209.1|\n",
      "| 29|                215.92|\n",
      "| 30|                235.82|\n",
      "| 31|                267.25|\n",
      "| 32|                207.91|\n",
      "| 33|                325.33|\n",
      "| 34|                 245.5|\n",
      "| 35|                211.63|\n",
      "| 36|                 246.6|\n",
      "| 37|                249.33|\n",
      "+---+----------------------+\n",
      "only showing top 20 rows\n",
      "\n"
     ]
    }
   ],
   "source": [
    "from pyspark.sql import functions as func\n",
    "people.groupBy(\"age\").agg(func.round(func.avg(\"friends\"), 2)).sort(\"age\").show()"
   ]
  },
  {
   "cell_type": "markdown",
   "metadata": {},
   "source": [
    "giving an alias name to avg number of friends column as shown below. Note that all 3 functions - avg, round, alias are used inside main brackets of agg()"
   ]
  },
  {
   "cell_type": "code",
   "execution_count": 24,
   "metadata": {},
   "outputs": [
    {
     "name": "stdout",
     "output_type": "stream",
     "text": [
      "+---+-----------+\n",
      "|age|avg_friends|\n",
      "+---+-----------+\n",
      "| 18|     343.38|\n",
      "| 19|     213.27|\n",
      "| 20|      165.0|\n",
      "| 21|     350.88|\n",
      "| 22|     206.43|\n",
      "| 23|      246.3|\n",
      "| 24|      233.8|\n",
      "| 25|     197.45|\n",
      "| 26|     242.06|\n",
      "| 27|     228.13|\n",
      "| 28|      209.1|\n",
      "| 29|     215.92|\n",
      "| 30|     235.82|\n",
      "| 31|     267.25|\n",
      "| 32|     207.91|\n",
      "| 33|     325.33|\n",
      "| 34|      245.5|\n",
      "| 35|     211.63|\n",
      "| 36|      246.6|\n",
      "| 37|     249.33|\n",
      "+---+-----------+\n",
      "only showing top 20 rows\n",
      "\n"
     ]
    }
   ],
   "source": [
    "people.groupBy(\"age\").agg(func.round(func.avg(\"friends\"), 2).alias(\"avg_friends\")).sort(\"age\").show()"
   ]
  },
  {
   "cell_type": "code",
   "execution_count": 26,
   "metadata": {},
   "outputs": [],
   "source": [
    "spark.stop()"
   ]
  }
 ],
 "metadata": {
  "kernelspec": {
   "display_name": "base",
   "language": "python",
   "name": "python3"
  },
  "language_info": {
   "codemirror_mode": {
    "name": "ipython",
    "version": 3
   },
   "file_extension": ".py",
   "mimetype": "text/x-python",
   "name": "python",
   "nbconvert_exporter": "python",
   "pygments_lexer": "ipython3",
   "version": "3.10.9"
  }
 },
 "nbformat": 4,
 "nbformat_minor": 2
}
